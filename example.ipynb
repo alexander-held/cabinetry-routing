{
 "cells": [
  {
   "cell_type": "code",
   "execution_count": 1,
   "metadata": {},
   "outputs": [],
   "source": [
    "import json\n",
    "from util import Router, apply_processors"
   ]
  },
  {
   "cell_type": "markdown",
   "metadata": {},
   "source": [
    "Create a class instance that is filled with routing information."
   ]
  },
  {
   "cell_type": "code",
   "execution_count": 2,
   "metadata": {},
   "outputs": [],
   "source": [
    "router = Router()"
   ]
  },
  {
   "cell_type": "markdown",
   "metadata": {},
   "source": [
    "The user defines functions that specify what to do with a specific kind of histogram (here: one where\n",
    "the sample has a specific name).\n",
    "The information about which histograms to apply the function to is given in the decorator argument."
   ]
  },
  {
   "cell_type": "code",
   "execution_count": 3,
   "metadata": {},
   "outputs": [],
   "source": [
    "@router.register_processor(sample=\"signal\")\n",
    "def process_signal(sample, variation, region):\n",
    "    print(f\"    using signal processor for {sample}-{variation}-{region}\")\n",
    "\n",
    "@router.register_processor(sample=\"background\")\n",
    "def process_background(sample, variation, region):\n",
    "    print(f\"    using background processor for {sample}-{variation}-{region}\")\n",
    "\n",
    "@router.register_processor(sample=\"data\")\n",
    "def process_data(sample, variation, region):\n",
    "    print(f\"    using data processor for {sample}-{variation}-{region}\")"
   ]
  },
  {
   "cell_type": "markdown",
   "metadata": {},
   "source": [
    "Load an example structure of histograms that need to be processed with the user-defined functions."
   ]
  },
  {
   "cell_type": "code",
   "execution_count": 4,
   "metadata": {},
   "outputs": [],
   "source": [
    "with open(\"example_structure.json\") as f:\n",
    "        histogram_structure = json.load(f)"
   ]
  },
  {
   "cell_type": "markdown",
   "metadata": {},
   "source": [
    "Call a function that loops over all histograms and executes the user-defined functions. The information about which function to apply to which histogram is stored in the `router` instance."
   ]
  },
  {
   "cell_type": "code",
   "execution_count": 5,
   "metadata": {
    "tags": []
   },
   "outputs": [
    {
     "output_type": "stream",
     "name": "stdout",
     "text": "processing: signal       nominal         CR   \n    using signal processor for signal-nominal-CR\nprocessing: signal       nominal         SR   \n    using signal processor for signal-nominal-SR\nprocessing: signal       JER             CR   \n    using signal processor for signal-JER-CR\nprocessing: signal       JER             SR   \n    using signal processor for signal-JER-SR\nprocessing: signal       signal_model    CR   \n    using signal processor for signal-signal_model-CR\nprocessing: signal       signal_model    SR   \n    using signal processor for signal-signal_model-SR\nprocessing: background   nominal         VR   \n    using background processor for background-nominal-VR\nprocessing: background   nominal         CR   \n    using background processor for background-nominal-CR\nprocessing: background   nominal         SR   \n    using background processor for background-nominal-SR\nprocessing: background   JER             VR   \n    using background processor for background-JER-VR\nprocessing: background   JER             CR   \n    using background processor for background-JER-CR\nprocessing: background   JER             SR   \n    using background processor for background-JER-SR\nprocessing: background   MC_gen          VR   \n    using background processor for background-MC_gen-VR\nprocessing: background   MC_gen          CR   \n    using background processor for background-MC_gen-CR\nprocessing: background   MC_gen          SR   \n    using background processor for background-MC_gen-SR\nprocessing: data         nominal         VR   \n    using data processor for data-nominal-VR\nprocessing: data         nominal         CR   \n    using data processor for data-nominal-CR\nprocessing: data         nominal         SR   \n    using data processor for data-nominal-SR\n"
    }
   ],
   "source": [
    "apply_processors(histogram_structure, router.processors)"
   ]
  }
 ],
 "metadata": {
  "kernelspec": {
   "display_name": "Python (pyhf)",
   "language": "python",
   "name": "pyhf"
  },
  "language_info": {
   "codemirror_mode": {
    "name": "ipython",
    "version": 3
   },
   "file_extension": ".py",
   "mimetype": "text/x-python",
   "name": "python",
   "nbconvert_exporter": "python",
   "pygments_lexer": "ipython3",
   "version": "3.7.5"
  }
 },
 "nbformat": 4,
 "nbformat_minor": 2
}