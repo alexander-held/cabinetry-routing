{
 "cells": [
  {
   "cell_type": "code",
   "execution_count": 1,
   "metadata": {},
   "outputs": [],
   "source": [
    "import json\n",
    "from util import Router, apply_processors"
   ]
  },
  {
   "cell_type": "markdown",
   "metadata": {},
   "source": [
    "Create a class instance that is filled with routing information."
   ]
  },
  {
   "cell_type": "code",
   "execution_count": 2,
   "metadata": {},
   "outputs": [],
   "source": [
    "router = Router()"
   ]
  },
  {
   "cell_type": "markdown",
   "metadata": {},
   "source": [
    "The user defines functions that specify what to do with a specific kind of histogram (here: one where\n",
    "the sample has a specific name).\n",
    "The information about which histograms to apply the function to is given in the decorator argument."
   ]
  },
  {
   "cell_type": "code",
   "execution_count": 3,
   "metadata": {},
   "outputs": [],
   "source": [
    "@router.register_processor(sample=\"signal\")\n",
    "def process_signal():\n",
    "    print(\"    using signal processor\")\n",
    "\n",
    "@router.register_processor(sample=\"background\")\n",
    "def process_background():\n",
    "    print(\"    using background processor\")\n",
    "\n",
    "@router.register_processor(sample=\"data\")\n",
    "def process_data():\n",
    "    print(\"    using data processor\")"
   ]
  },
  {
   "cell_type": "markdown",
   "metadata": {},
   "source": [
    "Load an example structure of histograms that need to be processed with the user-defined functions."
   ]
  },
  {
   "cell_type": "code",
   "execution_count": 4,
   "metadata": {},
   "outputs": [],
   "source": [
    "with open(\"example_structure.json\") as f:\n",
    "        histogram_structure = json.load(f)"
   ]
  },
  {
   "cell_type": "markdown",
   "metadata": {},
   "source": [
    "Call a function that loops over all histograms and executes the user-defined functions. The information about which function to apply to which histogram is stored in the `router` instance."
   ]
  },
  {
   "cell_type": "code",
   "execution_count": 5,
   "metadata": {},
   "outputs": [
    {
     "name": "stdout",
     "output_type": "stream",
     "text": [
      "processing: signal       nominal         CR   \n",
      "    using signal processor\n",
      "processing: signal       nominal         SR   \n",
      "    using signal processor\n",
      "processing: signal       JER             CR   \n",
      "    using signal processor\n",
      "processing: signal       JER             SR   \n",
      "    using signal processor\n",
      "processing: signal       signal_model    CR   \n",
      "    using signal processor\n",
      "processing: signal       signal_model    SR   \n",
      "    using signal processor\n",
      "processing: background   nominal         VR   \n",
      "    using background processor\n",
      "processing: background   nominal         CR   \n",
      "    using background processor\n",
      "processing: background   nominal         SR   \n",
      "    using background processor\n",
      "processing: background   JER             VR   \n",
      "    using background processor\n",
      "processing: background   JER             CR   \n",
      "    using background processor\n",
      "processing: background   JER             SR   \n",
      "    using background processor\n",
      "processing: background   MC_gen          VR   \n",
      "    using background processor\n",
      "processing: background   MC_gen          CR   \n",
      "    using background processor\n",
      "processing: background   MC_gen          SR   \n",
      "    using background processor\n",
      "processing: data         nominal         VR   \n",
      "    using data processor\n",
      "processing: data         nominal         CR   \n",
      "    using data processor\n",
      "processing: data         nominal         SR   \n",
      "    using data processor\n"
     ]
    }
   ],
   "source": [
    "apply_processors(histogram_structure, router.processors)"
   ]
  }
 ],
 "metadata": {
  "kernelspec": {
   "display_name": "Python (pyhf)",
   "language": "python",
   "name": "pyhf"
  },
  "language_info": {
   "codemirror_mode": {
    "name": "ipython",
    "version": 3
   },
   "file_extension": ".py",
   "mimetype": "text/x-python",
   "name": "python",
   "nbconvert_exporter": "python",
   "pygments_lexer": "ipython3",
   "version": "3.7.5"
  }
 },
 "nbformat": 4,
 "nbformat_minor": 2
}